{
  "nbformat": 4,
  "nbformat_minor": 0,
  "metadata": {
    "colab": {
      "name": "fairgen.ipynb",
      "provenance": [],
      "authorship_tag": "ABX9TyMYxvhoYmakWYykhD1rcxGI",
      "include_colab_link": true
    },
    "kernelspec": {
      "name": "python3",
      "display_name": "Python 3"
    },
    "accelerator": "GPU"
  },
  "cells": [
    {
      "cell_type": "markdown",
      "metadata": {
        "id": "view-in-github",
        "colab_type": "text"
      },
      "source": [
        "<a href=\"https://colab.research.google.com/github/Ariostgx/fairgen/blob/main/docs/fairgen.ipynb\" target=\"_parent\"><img src=\"https://colab.research.google.com/assets/colab-badge.svg\" alt=\"Open In Colab\"/></a>"
      ]
    },
    {
      "cell_type": "markdown",
      "metadata": {
        "id": "7penA1j1s_Zr"
      },
      "source": [
        "# Fetch Codebase and Models"
      ]
    },
    {
      "cell_type": "code",
      "metadata": {
        "id": "fIwiSLhOY4Rk",
        "outputId": "20d01164-703f-40b6-fa94-88561494f56e",
        "colab": {
          "base_uri": "https://localhost:8080/"
        }
      },
      "source": [
        "import os\n",
        "os.chdir('/content')\n",
        "\n",
        "# featch model codebase\n",
        "CODE_DIR = 'fairgen'\n",
        "os.makedirs(f'./{CODE_DIR}', exist_ok=True)\n",
        "!git clone https://github.com/Ariostgx/fairgen_model.git $CODE_DIR\n",
        "os.chdir('/content/fairgen')\n",
        "\n",
        "# fetch GMM models\n",
        "GMM_DIR = 'gmms'\n",
        "os.makedirs(f'./{GMM_DIR}', exist_ok=True)\n",
        "!gdown https://drive.google.com/uc?id=1qgU07dFEOuTqm6NduFVmi7a8u-hDTddb -O $GMM_DIR/age_eyeglasses_gmm.p\n",
        "!gdown https://drive.google.com/uc?id=1JelMNL6euC0JQdYVb86wrs0RFs67iGBm -O $GMM_DIR/age_gender_gmm.p\n",
        "!gdown https://drive.google.com/uc?id=1_tnyVsHYuQk8tJnQY64AQuMkxOlSKuUQ -O $GMM_DIR/age_smiling_gmm.p\n",
        "!gdown https://drive.google.com/uc?id=1KmIEnf4-nA0DLlwMT53L9LFPDeAU9eod -O $GMM_DIR/gender_black_hair_gmm.p\n",
        "!gdown https://drive.google.com/uc?id=1ZiTjDDbPEalE2KQMX0kpDTB2psNDkcxh -O $GMM_DIR/gender_eyeglasses_gmm.p"
      ],
      "execution_count": 55,
      "outputs": [
        {
          "output_type": "stream",
          "text": [
            "Downloading...\n",
            "From: https://drive.google.com/uc?id=1ZiTjDDbPEalE2KQMX0kpDTB2psNDkcxh\n",
            "To: /content/fairgen/gmms/gender_eyeglasses_gmm.p\n",
            "252MB [00:01, 247MB/s]\n"
          ],
          "name": "stdout"
        }
      ]
    },
    {
      "cell_type": "markdown",
      "metadata": {
        "id": "ycfWmj2-sKag"
      },
      "source": [
        "# Define Utility Functions\n"
      ]
    },
    {
      "cell_type": "code",
      "metadata": {
        "id": "x6ZCMlGlwy5f"
      },
      "source": [
        "import subprocess\n",
        "import io\n",
        "import IPython.display\n",
        "import numpy as np\n",
        "import cv2\n",
        "import PIL.Image\n",
        "import torch\n",
        "import pickle\n",
        "\n",
        "from models import MODEL_ZOO\n",
        "from models import build_generator\n",
        "\n",
        "def imshow(images, col, viz_size=256):\n",
        "  \"\"\"Shows images in one figure.\"\"\"\n",
        "  num, height, width, channels = images.shape\n",
        "  assert num % col == 0\n",
        "  row = num // col\n",
        "  fused_image = np.zeros((viz_size * row, viz_size * col, channels), dtype=np.uint8)\n",
        "  for idx, image in enumerate(images):\n",
        "    i, j = divmod(idx, col)\n",
        "    y = i * viz_size\n",
        "    x = j * viz_size\n",
        "    if height != viz_size or width != viz_size:\n",
        "      image = cv2.resize(image, (viz_size, viz_size))\n",
        "    fused_image[y:y + viz_size, x:x + viz_size] = image\n",
        "  fused_image = np.asarray(fused_image, dtype=np.uint8)\n",
        "  data = io.BytesIO()\n",
        "  PIL.Image.fromarray(fused_image).save(data, 'jpeg')\n",
        "  im_data = data.getvalue()\n",
        "  disp = IPython.display.display(IPython.display.Image(im_data))\n",
        "  return disp\n",
        "\n",
        "def build(model_name, use_cuda=False):\n",
        "  \"\"\"Builds generator and load pre-trained weights.\"\"\"\n",
        "  model_config = MODEL_ZOO[model_name].copy()\n",
        "  url = model_config.pop('url')  # URL to download model if needed.\n",
        "\n",
        "  # Build generator.\n",
        "  print(f'Building generator for model `{model_name}` ...')\n",
        "  generator = build_generator(**model_config, use_cuda = use_cuda)\n",
        "  print(f'Finish building generator.')\n",
        "\n",
        "  # Load pre-trained weights.\n",
        "  os.makedirs('checkpoints', exist_ok=True)\n",
        "  checkpoint_path = os.path.join('checkpoints', model_name + '.pth')\n",
        "  print(f'Loading checkpoint from `{checkpoint_path}` ...')\n",
        "  if not os.path.exists(checkpoint_path):\n",
        "    print(f'  Downloading checkpoint from `{url}` ...')\n",
        "    subprocess.call(['wget', '--quiet', '-O', checkpoint_path, url])\n",
        "    print(f'  Finish downloading checkpoint.')\n",
        "  checkpoint = torch.load(checkpoint_path, map_location='cpu')\n",
        "  if 'generator_smooth' in checkpoint:\n",
        "    generator.load_state_dict(checkpoint['generator_smooth'])\n",
        "  else:\n",
        "    generator.load_state_dict(checkpoint['generator'])\n",
        "  if use_cuda:\n",
        "      generator = generator.cuda()\n",
        "  generator.eval()\n",
        "  print(f'Finish loading checkpoint.')\n",
        "  return generator\n",
        "\n",
        "loaded_pair = ''"
      ],
      "execution_count": 59,
      "outputs": []
    },
    {
      "cell_type": "markdown",
      "metadata": {
        "id": "D6nhQ5wKtHJi"
      },
      "source": [
        "# Build GAN model"
      ]
    },
    {
      "cell_type": "code",
      "metadata": {
        "id": "2AJKD1CItJ75",
        "outputId": "8fcd12e8-7dc9-4b47-a710-158e647b979d",
        "colab": {
          "base_uri": "https://localhost:8080/"
        }
      },
      "source": [
        "model_name = 'stylegan2_ffhq1024'\n",
        "generator = build(model_name, use_cuda=True)"
      ],
      "execution_count": 3,
      "outputs": [
        {
          "output_type": "stream",
          "text": [
            "Building generator for model `stylegan2_ffhq1024` ...\n",
            "Finish building generator.\n",
            "Loading checkpoint from `checkpoints/stylegan2_ffhq1024.pth` ...\n",
            "  Downloading checkpoint from `https://mycuhk-my.sharepoint.com/:u:/g/personal/1155082926_link_cuhk_edu_hk/EX0DNWiBvl5FuOQTF4oMPBYBNSalcxTK0AbLwBn9Y3vfgg?e=Q0sZit&download=1` ...\n",
            "  Finish downloading checkpoint.\n",
            "Finish loading checkpoint.\n"
          ],
          "name": "stdout"
        }
      ]
    },
    {
      "cell_type": "markdown",
      "metadata": {
        "id": "JJ9PhkPvvEnm"
      },
      "source": [
        "# Select subgroup GMM model\n",
        "\n",
        "\n",
        "---\n",
        "\n",
        "\n",
        "| Attribute | value=-1 | value=1 |\n",
        "|-----|-----|-----|\n",
        "| <img width=100/>Age<img width=100/> | <img width=50/>young<img width=50/> | <img width=50/>adult<img width=50/> |\n",
        "| <img width=100/>Gender<img width=100/> | <img width=50/>male<img width=50/> | <img width=50/>female<img width=50/> |\n",
        "| <img width=100/>Eyeglasses<img width=100/> | <img width=50/>with<img width=50/> | <img width=50/>without<img width=50/> |\n",
        "| <img width=100/>Black Hair<img width=100/> | <img width=50/>with<img width=50/> | <img width=50/>without<img width=50/> |\n",
        "| <img width=100/>Smiling<img width=100/> | <img width=50/>with<img width=50/> | <img width=50/>without<img width=50/> |\n",
        "\n"
      ]
    },
    {
      "cell_type": "code",
      "metadata": {
        "id": "7PA6Wkntw0TJ"
      },
      "source": [
        "#@title { display-mode: \"form\", run: \"auto\" }\n",
        "attribute_pair = \"age_gender\" #@param ['age_eyeglasses','age_gender', 'age_smiling', 'gender_black_hair', 'gender_eyeglasses']\n",
        "attr_1_value = \"1\" #@param ['-1', '1']\n",
        "attr_2_value = \"-1\" #@param ['-1', '1']\n",
        "\n",
        "if loaded_pair != attribute_pair:\n",
        "  gmm_path = f'gmms/{attribute_pair}_gmm.p'\n",
        "  gmm_models = pickle.load(open(gmm_path, 'rb'))\n",
        "  loaded_pair = attribute_pair\n",
        "\n",
        "  print('loading GMM file')\n",
        "\n",
        "attr_value_name = '{:.1f}_{:.1f}'.format(int(attr_1_value)*3.0, int(attr_2_value)*3.0)\n",
        "gmm_model = gmm_models[attr_value_name]"
      ],
      "execution_count": 90,
      "outputs": []
    },
    {
      "cell_type": "markdown",
      "metadata": {
        "id": "l0r68bFjxZBJ"
      },
      "source": [
        "# Sample subgroup code"
      ]
    },
    {
      "cell_type": "code",
      "metadata": {
        "cellView": "form",
        "id": "8-Pa8fRKtCVf",
        "outputId": "c6b4f631-ef9d-476c-d9c3-8a7f87694069",
        "colab": {
          "base_uri": "https://localhost:8080/",
          "height": 273
        }
      },
      "source": [
        "\n",
        "#@title { display-mode: \"form\", run: \"auto\" }\n",
        "\n",
        "num_samples = 3 #@param {type:\"slider\", min:1, max:8, step:1}\n",
        "codes = gmm_model.sample(num_samples)[0]\n",
        "\n",
        "images = generator(codes, latent_space_type='W')['image']\n",
        "imshow(images, col=num_samples)"
      ],
      "execution_count": 91,
      "outputs": [
        {
          "output_type": "display_data",
          "data": {
            "image/jpeg": "[encoded data removed]",
            "text/plain": [
              "<IPython.core.display.Image object>"
            ]
          },
          "metadata": {
            "tags": []
          }
        }
      ]
    }
  ]
}